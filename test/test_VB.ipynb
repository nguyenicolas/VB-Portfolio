{
 "cells": [
  {
   "cell_type": "code",
   "execution_count": 31,
   "metadata": {},
   "outputs": [],
   "source": [
    "import numpy as np\n",
    "import jax.numpy as jnp\n",
    "import pandas as pd\n",
    "import matplotlib.pyplot as plt\n",
    "\n",
    "path_file = '/Users/nicolasnguyen/Documents/Projets/PortfolioVB/saved/daily_data.npy'\n",
    "data_df = np.load(path_file)\n",
    "data = jnp.array(data_df)"
   ]
  }
 ],
 "metadata": {
  "kernelspec": {
   "display_name": ".venv",
   "language": "python",
   "name": "python3"
  },
  "language_info": {
   "codemirror_mode": {
    "name": "ipython",
    "version": 3
   },
   "file_extension": ".py",
   "mimetype": "text/x-python",
   "name": "python",
   "nbconvert_exporter": "python",
   "pygments_lexer": "ipython3",
   "version": "3.10.4"
  },
  "orig_nbformat": 4,
  "vscode": {
   "interpreter": {
    "hash": "41357bd495f1048eba1eea58ecd53c1611899a4c87fc8c77697e4f6c3ff309a4"
   }
  }
 },
 "nbformat": 4,
 "nbformat_minor": 2
}
