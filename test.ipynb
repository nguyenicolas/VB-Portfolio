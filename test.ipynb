{
 "cells": [
  {
   "cell_type": "code",
   "execution_count": 3,
   "metadata": {},
   "outputs": [
    {
     "ename": "AttributeError",
     "evalue": "partially initialized module 'jax' has no attribute 'version' (most likely due to a circular import)",
     "output_type": "error",
     "traceback": [
      "\u001b[0;31m---------------------------------------------------------------------------\u001b[0m",
      "\u001b[0;31mAttributeError\u001b[0m                            Traceback (most recent call last)",
      "Cell \u001b[0;32mIn[3], line 1\u001b[0m\n\u001b[0;32m----> 1\u001b[0m \u001b[39mimport\u001b[39;00m \u001b[39mjax\u001b[39;00m\n\u001b[1;32m      2\u001b[0m \u001b[39mimport\u001b[39;00m \u001b[39mjax\u001b[39;00m\u001b[39m.\u001b[39;00m\u001b[39mnumpy\u001b[39;00m \u001b[39mas\u001b[39;00m \u001b[39mjnp\u001b[39;00m\n",
      "File \u001b[0;32m~/Documents/Projets/PortfolioVB/.venv/lib/python3.10/site-packages/jax/__init__.py:37\u001b[0m\n\u001b[1;32m     34\u001b[0m \u001b[39mdel\u001b[39;00m _cloud_tpu_init\n\u001b[1;32m     36\u001b[0m \u001b[39m# Force early import, allowing use of `jax.core` after importing `jax`.\u001b[39;00m\n\u001b[0;32m---> 37\u001b[0m \u001b[39mimport\u001b[39;00m \u001b[39mjax\u001b[39;00m\u001b[39m.\u001b[39;00m\u001b[39mcore\u001b[39;00m \u001b[39mas\u001b[39;00m \u001b[39m_core\u001b[39;00m\n\u001b[1;32m     38\u001b[0m \u001b[39mdel\u001b[39;00m _core\n\u001b[1;32m     40\u001b[0m \u001b[39m# Note: import <name> as <name> is required for names to be exported.\u001b[39;00m\n\u001b[1;32m     41\u001b[0m \u001b[39m# See PEP 484 & https://github.com/jax-ml/jax/issues/7570\u001b[39;00m\n",
      "File \u001b[0;32m~/Documents/Projets/PortfolioVB/.venv/lib/python3.10/site-packages/jax/core.py:18\u001b[0m\n\u001b[1;32m      1\u001b[0m \u001b[39m# Copyright 2022 The JAX Authors.\u001b[39;00m\n\u001b[1;32m      2\u001b[0m \u001b[39m#\u001b[39;00m\n\u001b[1;32m      3\u001b[0m \u001b[39m# Licensed under the Apache License, Version 2.0 (the \"License\");\u001b[39;00m\n\u001b[0;32m   (...)\u001b[0m\n\u001b[1;32m     15\u001b[0m \u001b[39m# Note: import <name> as <name> is required for names to be exported.\u001b[39;00m\n\u001b[1;32m     16\u001b[0m \u001b[39m# See PEP 484 & https://github.com/jax-ml/jax/issues/7570\u001b[39;00m\n\u001b[0;32m---> 18\u001b[0m \u001b[39mfrom\u001b[39;00m \u001b[39mjax\u001b[39;00m\u001b[39m.\u001b[39;00m\u001b[39m_src\u001b[39;00m\u001b[39m.\u001b[39;00m\u001b[39mcore\u001b[39;00m \u001b[39mimport\u001b[39;00m (\n\u001b[1;32m     19\u001b[0m   AbstractToken \u001b[39mas\u001b[39;00m AbstractToken,\n\u001b[1;32m     20\u001b[0m   AbstractValue \u001b[39mas\u001b[39;00m AbstractValue,\n\u001b[1;32m     21\u001b[0m   Atom \u001b[39mas\u001b[39;00m Atom,\n\u001b[1;32m     22\u001b[0m   CallPrimitive \u001b[39mas\u001b[39;00m CallPrimitive,\n\u001b[1;32m     23\u001b[0m   DShapedArray \u001b[39mas\u001b[39;00m DShapedArray,\n\u001b[1;32m     24\u001b[0m   DropVar \u001b[39mas\u001b[39;00m DropVar,\n\u001b[1;32m     25\u001b[0m   Effect \u001b[39mas\u001b[39;00m Effect,\n\u001b[1;32m     26\u001b[0m   Effects \u001b[39mas\u001b[39;00m Effects,\n\u001b[1;32m     27\u001b[0m   get_opaque_trace_state \u001b[39mas\u001b[39;00m get_opaque_trace_state,\n\u001b[1;32m     28\u001b[0m   InconclusiveDimensionOperation \u001b[39mas\u001b[39;00m InconclusiveDimensionOperation,\n\u001b[1;32m     29\u001b[0m   JaxprDebugInfo \u001b[39mas\u001b[39;00m JaxprDebugInfo,\n\u001b[1;32m     30\u001b[0m   JaxprPpContext \u001b[39mas\u001b[39;00m JaxprPpContext,\n\u001b[1;32m     31\u001b[0m   JaxprPpSettings \u001b[39mas\u001b[39;00m JaxprPpSettings,\n\u001b[1;32m     32\u001b[0m   JaxprTypeError \u001b[39mas\u001b[39;00m JaxprTypeError,\n\u001b[1;32m     33\u001b[0m   nonempty_axis_env \u001b[39mas\u001b[39;00m nonempty_axis_env_DO_NOT_USE,  \u001b[39m# noqa: F401\u001b[39;00m\n\u001b[1;32m     34\u001b[0m   OutputType \u001b[39mas\u001b[39;00m OutputType,\n\u001b[1;32m     35\u001b[0m   ParamDict \u001b[39mas\u001b[39;00m ParamDict,\n\u001b[1;32m     36\u001b[0m   ShapedArray \u001b[39mas\u001b[39;00m ShapedArray,\n\u001b[1;32m     37\u001b[0m   Trace \u001b[39mas\u001b[39;00m Trace,\n\u001b[1;32m     38\u001b[0m   Tracer \u001b[39mas\u001b[39;00m Tracer,\n\u001b[1;32m     39\u001b[0m   unsafe_am_i_under_a_jit \u001b[39mas\u001b[39;00m unsafe_am_i_under_a_jit_DO_NOT_USE,  \u001b[39m# noqa: F401\u001b[39;00m\n\u001b[1;32m     40\u001b[0m   unsafe_am_i_under_a_vmap \u001b[39mas\u001b[39;00m unsafe_am_i_under_a_vmap_DO_NOT_USE,  \u001b[39m# noqa: F401\u001b[39;00m\n\u001b[1;32m     41\u001b[0m   unsafe_get_axis_names \u001b[39mas\u001b[39;00m unsafe_get_axis_names_DO_NOT_USE,  \u001b[39m# noqa: F401\u001b[39;00m\n\u001b[1;32m     42\u001b[0m   UnshapedArray \u001b[39mas\u001b[39;00m UnshapedArray,\n\u001b[1;32m     43\u001b[0m   Value \u001b[39mas\u001b[39;00m Value,\n\u001b[1;32m     44\u001b[0m   abstract_token \u001b[39mas\u001b[39;00m abstract_token,\n\u001b[1;32m     45\u001b[0m   aval_mapping_handlers \u001b[39mas\u001b[39;00m aval_mapping_handlers,\n\u001b[1;32m     46\u001b[0m   call \u001b[39mas\u001b[39;00m call,\n\u001b[1;32m     47\u001b[0m   call_impl \u001b[39mas\u001b[39;00m call_impl,\n\u001b[1;32m     48\u001b[0m   check_jaxpr \u001b[39mas\u001b[39;00m check_jaxpr,\n\u001b[1;32m     49\u001b[0m   concrete_or_error \u001b[39mas\u001b[39;00m concrete_or_error,\n\u001b[1;32m     50\u001b[0m   concretization_function_error \u001b[39mas\u001b[39;00m concretization_function_error,\n\u001b[1;32m     51\u001b[0m   custom_typechecks \u001b[39mas\u001b[39;00m custom_typechecks,\n\u001b[1;32m     52\u001b[0m   ensure_compile_time_eval \u001b[39mas\u001b[39;00m ensure_compile_time_eval,\n\u001b[1;32m     53\u001b[0m   eval_context \u001b[39mas\u001b[39;00m eval_context,\n\u001b[1;32m     54\u001b[0m   eval_jaxpr \u001b[39mas\u001b[39;00m eval_jaxpr,\n\u001b[1;32m     55\u001b[0m   find_top_trace \u001b[39mas\u001b[39;00m find_top_trace,\n\u001b[1;32m     56\u001b[0m   gensym \u001b[39mas\u001b[39;00m gensym,\n\u001b[1;32m     57\u001b[0m   get_aval \u001b[39mas\u001b[39;00m get_aval,\n\u001b[1;32m     58\u001b[0m   is_concrete \u001b[39mas\u001b[39;00m is_concrete,\n\u001b[1;32m     59\u001b[0m   is_constant_dim \u001b[39mas\u001b[39;00m is_constant_dim,\n\u001b[1;32m     60\u001b[0m   is_constant_shape \u001b[39mas\u001b[39;00m is_constant_shape,\n\u001b[1;32m     61\u001b[0m   jaxprs_in_params \u001b[39mas\u001b[39;00m jaxprs_in_params,\n\u001b[1;32m     62\u001b[0m   literalable_types \u001b[39mas\u001b[39;00m literalable_types,\n\u001b[1;32m     63\u001b[0m   mapped_aval \u001b[39mas\u001b[39;00m mapped_aval,\n\u001b[1;32m     64\u001b[0m   max_dim \u001b[39mas\u001b[39;00m max_dim,\n\u001b[1;32m     65\u001b[0m   min_dim \u001b[39mas\u001b[39;00m min_dim,\n\u001b[1;32m     66\u001b[0m   new_jaxpr_eqn \u001b[39mas\u001b[39;00m new_jaxpr_eqn,\n\u001b[1;32m     67\u001b[0m   no_axis_name \u001b[39mas\u001b[39;00m no_axis_name,\n\u001b[1;32m     68\u001b[0m   no_effects \u001b[39mas\u001b[39;00m no_effects,\n\u001b[1;32m     69\u001b[0m   primal_dtype_to_tangent_dtype \u001b[39mas\u001b[39;00m primal_dtype_to_tangent_dtype,\n\u001b[1;32m     70\u001b[0m   pytype_aval_mappings \u001b[39mas\u001b[39;00m pytype_aval_mappings,\n\u001b[1;32m     71\u001b[0m   set_current_trace \u001b[39mas\u001b[39;00m set_current_trace,\n\u001b[1;32m     72\u001b[0m   subjaxprs \u001b[39mas\u001b[39;00m subjaxprs,\n\u001b[1;32m     73\u001b[0m   take_current_trace \u001b[39mas\u001b[39;00m take_current_trace,\n\u001b[1;32m     74\u001b[0m   trace_ctx \u001b[39mas\u001b[39;00m trace_ctx,\n\u001b[1;32m     75\u001b[0m   TraceTag \u001b[39mas\u001b[39;00m TraceTag,\n\u001b[1;32m     76\u001b[0m   traverse_jaxpr_params \u001b[39mas\u001b[39;00m traverse_jaxpr_params,\n\u001b[1;32m     77\u001b[0m   unmapped_aval \u001b[39mas\u001b[39;00m unmapped_aval,\n\u001b[1;32m     78\u001b[0m   valid_jaxtype \u001b[39mas\u001b[39;00m valid_jaxtype,\n\u001b[1;32m     79\u001b[0m )\n\u001b[1;32m     82\u001b[0m \u001b[39mfrom\u001b[39;00m \u001b[39mjax\u001b[39;00m\u001b[39m.\u001b[39;00m\u001b[39m_src\u001b[39;00m \u001b[39mimport\u001b[39;00m core \u001b[39mas\u001b[39;00m _src_core\n\u001b[1;32m     83\u001b[0m _deprecations \u001b[39m=\u001b[39m {\n\u001b[1;32m     84\u001b[0m     \u001b[39m# Added 2024-12-16\u001b[39;00m\n\u001b[1;32m     85\u001b[0m     \u001b[39m\"\u001b[39m\u001b[39mClosedJaxpr\u001b[39m\u001b[39m\"\u001b[39m: (\u001b[39m\"\u001b[39m\u001b[39mjax.core.ClosedJaxpr is deprecated. Use jax.extend.core.ClosedJaxpr instead, \u001b[39m\u001b[39m\"\u001b[39m\n\u001b[0;32m   (...)\u001b[0m\n\u001b[1;32m    185\u001b[0m     \u001b[39m\"\u001b[39m\u001b[39mpp_vars\u001b[39m\u001b[39m\"\u001b[39m: (\u001b[39m\"\u001b[39m\u001b[39mjax.core.pp_vars was removed in JAX v0.4.34.\u001b[39m\u001b[39m\"\u001b[39m, \u001b[39mNone\u001b[39;00m),\n\u001b[1;32m    186\u001b[0m }\n",
      "File \u001b[0;32m~/Documents/Projets/PortfolioVB/.venv/lib/python3.10/site-packages/jax/_src/core.py:37\u001b[0m\n\u001b[1;32m     33\u001b[0m \u001b[39mfrom\u001b[39;00m \u001b[39mweakref\u001b[39;00m \u001b[39mimport\u001b[39;00m ref\n\u001b[1;32m     35\u001b[0m \u001b[39mimport\u001b[39;00m \u001b[39mnumpy\u001b[39;00m \u001b[39mas\u001b[39;00m \u001b[39mnp\u001b[39;00m\n\u001b[0;32m---> 37\u001b[0m \u001b[39mfrom\u001b[39;00m \u001b[39mjax\u001b[39;00m\u001b[39m.\u001b[39;00m\u001b[39m_src\u001b[39;00m \u001b[39mimport\u001b[39;00m dtypes\n\u001b[1;32m     38\u001b[0m \u001b[39mfrom\u001b[39;00m \u001b[39mjax\u001b[39;00m\u001b[39m.\u001b[39;00m\u001b[39m_src\u001b[39;00m \u001b[39mimport\u001b[39;00m config\n\u001b[1;32m     39\u001b[0m \u001b[39mfrom\u001b[39;00m \u001b[39mjax\u001b[39;00m\u001b[39m.\u001b[39;00m\u001b[39m_src\u001b[39;00m \u001b[39mimport\u001b[39;00m effects\n",
      "File \u001b[0;32m~/Documents/Projets/PortfolioVB/.venv/lib/python3.10/site-packages/jax/_src/dtypes.py:35\u001b[0m\n\u001b[1;32m     32\u001b[0m \u001b[39mimport\u001b[39;00m \u001b[39mml_dtypes\u001b[39;00m\n\u001b[1;32m     33\u001b[0m \u001b[39mimport\u001b[39;00m \u001b[39mnumpy\u001b[39;00m \u001b[39mas\u001b[39;00m \u001b[39mnp\u001b[39;00m\n\u001b[0;32m---> 35\u001b[0m \u001b[39mfrom\u001b[39;00m \u001b[39mjax\u001b[39;00m\u001b[39m.\u001b[39;00m\u001b[39m_src\u001b[39;00m \u001b[39mimport\u001b[39;00m config\n\u001b[1;32m     36\u001b[0m \u001b[39mfrom\u001b[39;00m \u001b[39mjax\u001b[39;00m\u001b[39m.\u001b[39;00m\u001b[39m_src\u001b[39;00m\u001b[39m.\u001b[39;00m\u001b[39mtyping\u001b[39;00m \u001b[39mimport\u001b[39;00m Array, DType, DTypeLike\n\u001b[1;32m     37\u001b[0m \u001b[39mfrom\u001b[39;00m \u001b[39mjax\u001b[39;00m\u001b[39m.\u001b[39;00m\u001b[39m_src\u001b[39;00m\u001b[39m.\u001b[39;00m\u001b[39mutil\u001b[39;00m \u001b[39mimport\u001b[39;00m set_module, StrictABC\n",
      "File \u001b[0;32m~/Documents/Projets/PortfolioVB/.venv/lib/python3.10/site-packages/jax/_src/config.py:26\u001b[0m\n\u001b[1;32m     23\u001b[0m \u001b[39mimport\u001b[39;00m \u001b[39msys\u001b[39;00m\n\u001b[1;32m     24\u001b[0m \u001b[39mfrom\u001b[39;00m \u001b[39mtyping\u001b[39;00m \u001b[39mimport\u001b[39;00m Any, Generic, NoReturn, Optional, Protocol, TypeVar, cast\n\u001b[0;32m---> 26\u001b[0m \u001b[39mfrom\u001b[39;00m \u001b[39mjax\u001b[39;00m\u001b[39m.\u001b[39;00m\u001b[39m_src\u001b[39;00m\u001b[39m.\u001b[39;00m\u001b[39mlib\u001b[39;00m \u001b[39mimport\u001b[39;00m guard_lib\n\u001b[1;32m     27\u001b[0m \u001b[39mfrom\u001b[39;00m \u001b[39mjax\u001b[39;00m\u001b[39m.\u001b[39;00m\u001b[39m_src\u001b[39;00m\u001b[39m.\u001b[39;00m\u001b[39mlib\u001b[39;00m \u001b[39mimport\u001b[39;00m jax_jit\n\u001b[1;32m     28\u001b[0m \u001b[39mfrom\u001b[39;00m \u001b[39mjax\u001b[39;00m\u001b[39m.\u001b[39;00m\u001b[39m_src\u001b[39;00m\u001b[39m.\u001b[39;00m\u001b[39mlib\u001b[39;00m \u001b[39mimport\u001b[39;00m xla_client\n",
      "File \u001b[0;32m~/Documents/Projets/PortfolioVB/.venv/lib/python3.10/site-packages/jax/_src/lib/__init__.py:76\u001b[0m\n\u001b[1;32m     71\u001b[0m   \u001b[39mreturn\u001b[39;00m _jaxlib_version\n\u001b[1;32m     74\u001b[0m version_str \u001b[39m=\u001b[39m jaxlib\u001b[39m.\u001b[39mversion\u001b[39m.\u001b[39m__version__\n\u001b[1;32m     75\u001b[0m version \u001b[39m=\u001b[39m check_jaxlib_version(\n\u001b[0;32m---> 76\u001b[0m   jax_version\u001b[39m=\u001b[39mjax\u001b[39m.\u001b[39;49mversion\u001b[39m.\u001b[39m__version__,\n\u001b[1;32m     77\u001b[0m   jaxlib_version\u001b[39m=\u001b[39mjaxlib\u001b[39m.\u001b[39mversion\u001b[39m.\u001b[39m__version__,\n\u001b[1;32m     78\u001b[0m   minimum_jaxlib_version\u001b[39m=\u001b[39mjax\u001b[39m.\u001b[39mversion\u001b[39m.\u001b[39m_minimum_jaxlib_version)\n\u001b[1;32m     80\u001b[0m \u001b[39m# Before importing any C compiled modules from jaxlib, first import the CPU\u001b[39;00m\n\u001b[1;32m     81\u001b[0m \u001b[39m# feature guard module to verify that jaxlib was compiled in a way that only\u001b[39;00m\n\u001b[1;32m     82\u001b[0m \u001b[39m# uses instructions that are present on this machine.\u001b[39;00m\n\u001b[1;32m     83\u001b[0m \u001b[39mimport\u001b[39;00m \u001b[39mjaxlib\u001b[39;00m\u001b[39m.\u001b[39;00m\u001b[39mcpu_feature_guard\u001b[39;00m \u001b[39mas\u001b[39;00m \u001b[39mcpu_feature_guard\u001b[39;00m\n",
      "\u001b[0;31mAttributeError\u001b[0m: partially initialized module 'jax' has no attribute 'version' (most likely due to a circular import)"
     ]
    }
   ],
   "source": [
    "import jax\n",
    "import jax.numpy as jnp"
   ]
  },
  {
   "cell_type": "code",
   "execution_count": 2,
   "metadata": {},
   "outputs": [
    {
     "name": "stderr",
     "output_type": "stream",
     "text": [
      "WARNING:2024-12-20 11:50:19,730:jax._src.xla_bridge:1000: Platform 'METAL' is experimental and not all JAX functionality may be correctly supported!\n",
      "WARNING: All log messages before absl::InitializeLog() is called are written to STDERR\n",
      "W0000 00:00:1734691819.730894  129083 mps_client.cc:510] WARNING: JAX Apple GPU support is experimental and not all JAX functionality is correctly supported!\n",
      "I0000 00:00:1734691819.744265  129083 service.cc:145] XLA service 0x10c9994d0 initialized for platform METAL (this does not guarantee that XLA will be used). Devices:\n",
      "I0000 00:00:1734691819.744295  129083 service.cc:153]   StreamExecutor device (0): Metal, <undefined>\n",
      "I0000 00:00:1734691819.745893  129083 mps_client.cc:406] Using Simple allocator.\n",
      "I0000 00:00:1734691819.745908  129083 mps_client.cc:384] XLA backend will use up to 11452858368 bytes on device 0 for SimpleAllocator.\n"
     ]
    },
    {
     "name": "stdout",
     "output_type": "stream",
     "text": [
      "Metal device set to: Apple M1 Pro\n",
      "\n",
      "systemMemory: 16.00 GB\n",
      "maxCacheSize: 5.33 GB\n",
      "\n",
      "[0.25       0.19661194 0.10499358]\n"
     ]
    }
   ],
   "source": [
    "from jax import grad\n",
    "import jax.numpy as jnp\n",
    "\n",
    "def sum_logistic(x):\n",
    "  return jnp.sum(1.0 / (1.0 + jnp.exp(-x)))\n",
    "\n",
    "x_small = jnp.arange(3.)\n",
    "derivative_fn = grad(sum_logistic)\n",
    "print(derivative_fn(x_small))"
   ]
  },
  {
   "cell_type": "code",
   "execution_count": 6,
   "metadata": {},
   "outputs": [
    {
     "name": "stdout",
     "output_type": "stream",
     "text": [
      "Available devices:\n",
      "TFRT_CPU_0\n"
     ]
    }
   ],
   "source": [
    "devices = jax.devices()\n",
    "print(\"Available devices:\")\n",
    "for device in devices:\n",
    "    print(device)"
   ]
  },
  {
   "cell_type": "code",
   "execution_count": null,
   "metadata": {},
   "outputs": [],
   "source": []
  }
 ],
 "metadata": {
  "kernelspec": {
   "display_name": ".venv",
   "language": "python",
   "name": "python3"
  },
  "language_info": {
   "codemirror_mode": {
    "name": "ipython",
    "version": 3
   },
   "file_extension": ".py",
   "mimetype": "text/x-python",
   "name": "python",
   "nbconvert_exporter": "python",
   "pygments_lexer": "ipython3",
   "version": "3.10.4"
  },
  "orig_nbformat": 4,
  "vscode": {
   "interpreter": {
    "hash": "41357bd495f1048eba1eea58ecd53c1611899a4c87fc8c77697e4f6c3ff309a4"
   }
  }
 },
 "nbformat": 4,
 "nbformat_minor": 2
}
